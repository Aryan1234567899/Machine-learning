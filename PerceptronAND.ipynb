{
  "nbformat": 4,
  "nbformat_minor": 0,
  "metadata": {
    "colab": {
      "provenance": []
    },
    "kernelspec": {
      "name": "python3",
      "display_name": "Python 3"
    },
    "language_info": {
      "name": "python"
    }
  },
  "cells": [
    {
      "cell_type": "code",
      "execution_count": 4,
      "metadata": {
        "id": "h_GgemhLzqpT"
      },
      "outputs": [],
      "source": [
        "import numpy as np"
      ]
    },
    {
      "cell_type": "code",
      "source": [
        "#training data for and gates\n",
        "training_inputs = np.array([[0,0],[0,1],[1,0],[1,1]])\n",
        "labels = np.array([0,0,0,1])"
      ],
      "metadata": {
        "id": "0bJD9v9n1pN8"
      },
      "execution_count": 8,
      "outputs": []
    },
    {
      "cell_type": "code",
      "source": [
        "class Perceptron:\n",
        "   def __init__(self, input_size, learning_rate=0.01, epochs=100):\n",
        "\n",
        "        self.weights = np.zeros(input_size + 1)\n",
        "\n",
        "        self.learning_rate = learning_rate\n",
        "\n",
        "        self.epochs = epochs\n",
        "\n",
        "\n",
        "   def activation_function(self ,x):\n",
        "        return 1 if x>=0 else 0\n",
        "\n",
        "   def predict(self, inputs):\n",
        "        summation = np.dot(inputs, self.weights[1:]) + self.weights[0]\n",
        "        return self.activation_function(summation)\n",
        "\n",
        "   def train(self, training_inputs, labels):\n",
        "\n",
        "        for _ in range(self.epochs):\n",
        "\n",
        "          for inputs, label in zip(training_inputs, labels):\n",
        "\n",
        "            prediction = self.predict(inputs)\n",
        "\n",
        "            self.weights[1:] += self.learning_rate * (label - prediction) * inputs\n",
        "\n",
        "            self.weights[0] += self.learning_rate * (label-prediction)"
      ],
      "metadata": {
        "id": "12Zax5rt2f01"
      },
      "execution_count": 29,
      "outputs": []
    },
    {
      "cell_type": "code",
      "source": [
        "if __name__ == '__main__':\n",
        "      perceptron = Perceptron(input_size=2)\n",
        "      perceptron.train(training_inputs , labels)\n",
        "\n",
        "print(\"Testing AND gate Perceptron:\")\n",
        "\n",
        "print(\"0 AND 0 = \", perceptron.predict(np.array([0, 0])))\n",
        "\n",
        "print(\"0 AND 1 = \", perceptron.predict(np.array([0, 1])))\n",
        "\n",
        "print(\"1 AND 0 = \", perceptron.predict(np.array([1, 0])))\n",
        "\n",
        "print(\"1 AND 1 = \", perceptron.predict(np.array([1,1])))\n",
        ""
      ],
      "metadata": {
        "colab": {
          "base_uri": "https://localhost:8080/"
        },
        "id": "c5WIE8t-AyIx",
        "outputId": "bb6284b5-b199-4b9e-9e0d-5cd8ef336f75"
      },
      "execution_count": 30,
      "outputs": [
        {
          "output_type": "stream",
          "name": "stdout",
          "text": [
            "Testing AND gate Perceptron:\n",
            "0 AND 0 =  0\n",
            "0 AND 1 =  0\n",
            "1 AND 0 =  0\n",
            "1 AND 1 =  1\n"
          ]
        }
      ]
    },
    {
      "cell_type": "code",
      "source": [],
      "metadata": {
        "id": "kD54QJt-Bbq7"
      },
      "execution_count": null,
      "outputs": []
    }
  ]
}